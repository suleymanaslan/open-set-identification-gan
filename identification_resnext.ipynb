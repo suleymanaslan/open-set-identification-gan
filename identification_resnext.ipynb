{
 "cells": [
  {
   "cell_type": "code",
   "execution_count": null,
   "metadata": {},
   "outputs": [],
   "source": [
    "%matplotlib inline\n",
    "import numpy as np\n",
    "import matplotlib.pyplot as plt\n",
    "\n",
    "import torch\n",
    "\n",
    "import utils\n",
    "import identification_model\n",
    "\n",
    "\n",
    "plt.style.use(\"dark_background\")"
   ]
  },
  {
   "cell_type": "code",
   "execution_count": null,
   "metadata": {},
   "outputs": [],
   "source": [
    "use_preprocessed_data = True\n",
    "batch_size = 64\n",
    "\n",
    "if use_preprocessed_data:\n",
    "    model_dir, batch_iter = utils.init_identification_training(batch_size, use_preprocessed_data=True)\n",
    "    batch_inputs, batch_labels = batch_iter.next_batch()\n",
    "    batch_inputs = ((batch_inputs.type(torch.FloatTensor) / 255) - torch.Tensor([0.485, 0.456, 0.406]).view(1, 3, 1, 1)) / torch.Tensor([0.229, 0.224, 0.225]).view(1, 3, 1, 1)\n",
    "    plt.figure(figsize=(8,8))\n",
    "    plt.imshow((np.transpose(batch_inputs[0].numpy(), (1, 2, 0))*np.array([0.229, 0.224, 0.225]))+np.array([0.485, 0.456, 0.406]))\n",
    "\n",
    "else:\n",
    "    model_dir, data_dirs, dataloaders, class_names = utils.init_identification_training(batch_size, use_preprocessed_data=False)\n",
    "    batch_inputs, batch_classes = next(iter(dataloaders[data_dirs[\"train\"]]))\n",
    "    plt.figure(figsize=(8,8))\n",
    "    plt.imshow((np.transpose(batch_inputs[0].numpy(), (1, 2, 0))*np.array([0.229, 0.224, 0.225]))+np.array([0.485, 0.456, 0.406]))"
   ]
  },
  {
   "cell_type": "code",
   "execution_count": null,
   "metadata": {},
   "outputs": [],
   "source": [
    "nb_of_classes = 415\n",
    "\n",
    "network, criterion, optimizer = identification_model.init_model(model_dir, nb_of_classes)"
   ]
  },
  {
   "cell_type": "code",
   "execution_count": null,
   "metadata": {},
   "outputs": [],
   "source": [
    "unknown_id = 414\n",
    "num_epochs = 80\n",
    "\n",
    "if use_preprocessed_data:\n",
    "    network, best_acc, train_losses, val_losses = identification_model.train_batch_iterator(model_dir, network, criterion, optimizer, batch_iter, unknown_id, num_epochs)\n",
    "else:\n",
    "    network, best_acc, train_losses, val_losses = identification_model.train(model_dir, network, criterion, optimizer, data_dirs, dataloaders, unknown_id, num_epochs)"
   ]
  },
  {
   "cell_type": "code",
   "execution_count": null,
   "metadata": {},
   "outputs": [],
   "source": [
    "utils.save_identification_model(model_dir, network, best_acc, train_losses, val_losses)"
   ]
  },
  {
   "cell_type": "code",
   "execution_count": null,
   "metadata": {},
   "outputs": [],
   "source": [
    "if use_preprocessed_data:\n",
    "    utils.evaluate_identification_batch_iter(model_dir, network)\n",
    "else:\n",
    "    utils.evaluate_identification(model_dir, network, data_dirs, dataloaders, class_names)"
   ]
  }
 ],
 "metadata": {
  "kernelspec": {
   "display_name": "Python 3",
   "language": "python",
   "name": "python3"
  },
  "language_info": {
   "codemirror_mode": {
    "name": "ipython",
    "version": 3
   },
   "file_extension": ".py",
   "mimetype": "text/x-python",
   "name": "python",
   "nbconvert_exporter": "python",
   "pygments_lexer": "ipython3",
   "version": "3.7.7"
  }
 },
 "nbformat": 4,
 "nbformat_minor": 4
}

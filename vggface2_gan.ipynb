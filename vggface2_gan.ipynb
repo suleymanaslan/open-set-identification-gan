{
 "cells": [
  {
   "cell_type": "code",
   "execution_count": null,
   "metadata": {},
   "outputs": [],
   "source": [
    "%matplotlib inline\n",
    "import matplotlib.pyplot as plt\n",
    "\n",
    "import utils\n",
    "import model\n",
    "\n",
    "\n",
    "plt.style.use(\"dark_background\")"
   ]
  },
  {
   "cell_type": "code",
   "execution_count": null,
   "metadata": {},
   "outputs": [],
   "source": [
    "batch_size = 8\n",
    "model_dir, dataloader = utils.init_training(batch_size)\n",
    "\n",
    "real_images, _ = next(iter(dataloader))\n",
    "cur_img = real_images[0].numpy().transpose(1, 2, 0)\n",
    "plt.figure(figsize=(9*2, 4*2))\n",
    "plt.imshow((cur_img+1.0)*0.5)"
   ]
  },
  {
   "cell_type": "code",
   "execution_count": null,
   "metadata": {},
   "outputs": [],
   "source": [
    "discriminator_net, generator_net, discriminator_optimizer, generator_optimizer = model.init_model(model_dir)"
   ]
  },
  {
   "cell_type": "code",
   "execution_count": null,
   "metadata": {},
   "outputs": [],
   "source": [
    "generator_losses, discriminator_losses, generated_images = model.train(discriminator_net, generator_net, discriminator_optimizer, generator_optimizer,\n",
    "                                                                       model_dir, dataloader, latent_size=100, num_epochs=40, batch_size=batch_size)"
   ]
  },
  {
   "cell_type": "code",
   "execution_count": null,
   "metadata": {},
   "outputs": [],
   "source": [
    "utils.save_model(model_dir, discriminator_net, generator_net, generator_losses, discriminator_losses, generated_images)"
   ]
  },
  {
   "cell_type": "code",
   "execution_count": null,
   "metadata": {},
   "outputs": [],
   "source": [
    "eval_img = generated_images[-1].transpose(1, 2, 0)\n",
    "generated_images[-1].transpose(1, 2, 0)\n",
    "plt.figure(figsize=(9*2, 4*2))\n",
    "plt.imshow((eval_img+1.0)*0.5)\n",
    "plt.imsave(f\"{model_dir}/generated_output.png\", (eval_img+1.0)*0.5)"
   ]
  }
 ],
 "metadata": {
  "kernelspec": {
   "display_name": "Python 3",
   "language": "python",
   "name": "python3"
  },
  "language_info": {
   "codemirror_mode": {
    "name": "ipython",
    "version": 3
   },
   "file_extension": ".py",
   "mimetype": "text/x-python",
   "name": "python",
   "nbconvert_exporter": "python",
   "pygments_lexer": "ipython3",
   "version": "3.7.7"
  }
 },
 "nbformat": 4,
 "nbformat_minor": 4
}

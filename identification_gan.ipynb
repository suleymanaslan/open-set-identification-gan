{
 "cells": [
  {
   "cell_type": "code",
   "execution_count": null,
   "metadata": {},
   "outputs": [],
   "source": [
    "%matplotlib inline\n",
    "import numpy as np\n",
    "import matplotlib.pyplot as plt\n",
    "\n",
    "import torch\n",
    "\n",
    "import utils\n",
    "import identification_model\n",
    "\n",
    "\n",
    "plt.style.use(\"dark_background\")"
   ]
  },
  {
   "cell_type": "code",
   "execution_count": null,
   "metadata": {},
   "outputs": [],
   "source": [
    "batch_size = 16\n",
    "\n",
    "model_dir, data_dirs, dataloaders, class_names = utils.init_gan_identification_training(batch_size)\n",
    "batch_inputs, batch_classes = next(iter(dataloaders[data_dirs[\"train\"]]))\n",
    "plt.figure(figsize=(8,8))\n",
    "plt.imshow((np.transpose(batch_inputs[0].numpy(), (1, 2, 0))*0.5)+0.5)"
   ]
  },
  {
   "cell_type": "code",
   "execution_count": null,
   "metadata": {},
   "outputs": [],
   "source": [
    "discriminator_net, generator_net, criterion, discriminator_optimizer, generator_optimizer = identification_model.init_gan_model(model_dir, nb_of_classes=46)"
   ]
  },
  {
   "cell_type": "code",
   "execution_count": null,
   "metadata": {},
   "outputs": [],
   "source": [
    "net_d, net_g, acc, loss_train, loss_g, loss_val = identification_model.train_gan(model_dir, discriminator_net, generator_net, criterion, discriminator_optimizer, generator_optimizer,\n",
    "                                                                                 data_dirs, dataloaders, unknown_id=45, latent_size=100, num_epochs=3, batch_size=batch_size)"
   ]
  },
  {
   "cell_type": "code",
   "execution_count": null,
   "metadata": {},
   "outputs": [],
   "source": [
    "utils.save_gan_identification_model(model_dir, net_d, net_g, acc, loss_train, loss_g, loss_val)"
   ]
  },
  {
   "cell_type": "code",
   "execution_count": null,
   "metadata": {},
   "outputs": [],
   "source": [
    "utils.evaluate_gan_identification(model_dir, net_d, data_dirs, dataloaders, class_names)"
   ]
  }
 ],
 "metadata": {
  "kernelspec": {
   "display_name": "Python 3",
   "language": "python",
   "name": "python3"
  },
  "language_info": {
   "codemirror_mode": {
    "name": "ipython",
    "version": 3
   },
   "file_extension": ".py",
   "mimetype": "text/x-python",
   "name": "python",
   "nbconvert_exporter": "python",
   "pygments_lexer": "ipython3",
   "version": "3.7.7"
  }
 },
 "nbformat": 4,
 "nbformat_minor": 4
}
